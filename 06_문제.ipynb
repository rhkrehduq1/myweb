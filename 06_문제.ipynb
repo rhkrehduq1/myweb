{
 "cells": [
  {
   "cell_type": "code",
   "execution_count": 1,
   "metadata": {},
   "outputs": [
    {
     "name": "stdout",
     "output_type": "stream",
     "text": [
      "1 3 5 7 9 11 13 15 17 19 "
     ]
    }
   ],
   "source": [
    "for i in range(1,20,2):\n",
    "    print(i, end=' ')"
   ]
  },
  {
   "cell_type": "code",
   "execution_count": 2,
   "metadata": {},
   "outputs": [
    {
     "name": "stdout",
     "output_type": "stream",
     "text": [
      "80\n"
     ]
    }
   ],
   "source": [
    "#최대값을 찾는 알고리즘\n",
    "a=[10,60,50,30,80,20,40]\n",
    "max=a[0]\n",
    "for v in a:\n",
    "    if max<v:\n",
    "        max=v\n",
    "print(max)"
   ]
  },
  {
   "cell_type": "code",
   "execution_count": 4,
   "metadata": {},
   "outputs": [
    {
     "name": "stdout",
     "output_type": "stream",
     "text": [
      "10\n"
     ]
    }
   ],
   "source": [
    "#최소값을 찾는 알고리즘\n",
    "a=[10,60,50,30,80,20,40]\n",
    "min=a[0]\n",
    "for v in a:\n",
    "    if min>v:\n",
    "        min=v\n",
    "print(max)"
   ]
  },
  {
   "cell_type": "code",
   "execution_count": 5,
   "metadata": {},
   "outputs": [
    {
     "name": "stdout",
     "output_type": "stream",
     "text": [
      "60\n"
     ]
    }
   ],
   "source": [
    "#두번째로 큰 값을 출력하세요\n",
    "a=[10,60,50,30,80,20,40]\n",
    "#쉬운방법\n",
    "#오름차순 정렬\n",
    "a.sort()\n",
    "print(a[-2])"
   ]
  },
  {
   "cell_type": "code",
   "execution_count": 7,
   "metadata": {},
   "outputs": [
    {
     "name": "stdout",
     "output_type": "stream",
     "text": [
      "[80, 60, 50, 40, 30, 20, 10]\n"
     ]
    }
   ],
   "source": [
    "a=[10,60,50,30,80,20,40]\n",
    "#내림찬순 정렬\n",
    "a.sort(reverse=True)\n",
    "print(a)"
   ]
  },
  {
   "cell_type": "code",
   "execution_count": 12,
   "metadata": {},
   "outputs": [
    {
     "name": "stdout",
     "output_type": "stream",
     "text": [
      "60\n"
     ]
    }
   ],
   "source": [
    "#두 수를 입력받아 최소공배수를 출력하세요\n",
    "a = 10\n",
    "b = 12\n",
    "i=1\n",
    "j=1\n",
    "while a*i != b*j:\n",
    "    if a*i<b*j:\n",
    "        i+=1\n",
    "    else:\n",
    "        j+=1\n",
    "print(a*i)"
   ]
  },
  {
   "cell_type": "code",
   "execution_count": 11,
   "metadata": {},
   "outputs": [
    {
     "name": "stdout",
     "output_type": "stream",
     "text": [
      "60\n"
     ]
    }
   ],
   "source": [
    "a = 10\n",
    "b = 12\n",
    "i=1\n",
    "j=1\n",
    "while True:\n",
    "    if a*i == b*j:\n",
    "        print(a*i)\n",
    "        break\n",
    "    elif a*i<b*j:\n",
    "        i+=1\n",
    "    else:\n",
    "        j+=1"
   ]
  },
  {
   "cell_type": "code",
   "execution_count": 13,
   "metadata": {},
   "outputs": [
    {
     "name": "stdout",
     "output_type": "stream",
     "text": [
      "60\n"
     ]
    }
   ],
   "source": [
    "a=10\n",
    "b=12\n",
    "if a>b:\n",
    "    max=a\n",
    "    min=b\n",
    "else:\n",
    "    max=b\n",
    "    min=a\n",
    "for v in range(max,min*max+1,max):\n",
    "    if v%min==0:\n",
    "        print(v)\n",
    "        break"
   ]
  },
  {
   "cell_type": "code",
   "execution_count": 16,
   "metadata": {},
   "outputs": [
    {
     "name": "stdout",
     "output_type": "stream",
     "text": [
      "1\n",
      "2\n",
      "5\n",
      "10\n"
     ]
    }
   ],
   "source": [
    "n = 10\n",
    "for i in range(1,n+1):\n",
    "    if n%i==0:\n",
    "        print(i)"
   ]
  },
  {
   "cell_type": "code",
   "execution_count": 27,
   "metadata": {},
   "outputs": [
    {
     "name": "stdout",
     "output_type": "stream",
     "text": [
      "139\n"
     ]
    }
   ],
   "source": [
    "b=695\n",
    "\n",
    "if a<b:\n",
    "    min=a\n",
    "else:\n",
    "    min=b\n",
    "for v in range(min,0,-1):\n",
    "    if a%v==0 and b%v==0:\n",
    "        print(v)\n",
    "        break"
   ]
  },
  {
   "cell_type": "code",
   "execution_count": 32,
   "metadata": {},
   "outputs": [
    {
     "name": "stdout",
     "output_type": "stream",
     "text": [
      "1112 685\n",
      "685 427\n",
      "427 258\n",
      "258 169\n",
      "169 89\n",
      "89 80\n",
      "80 9\n",
      "9 8\n",
      "8 1\n",
      "1\n"
     ]
    }
   ],
   "source": [
    "max=1112\n",
    "min=685\n",
    "\n",
    "while min>0:\n",
    "    print(max,min)\n",
    "    tmp = max%min\n",
    "    max = min\n",
    "    min = tmp\n",
    "\n",
    "print(max)"
   ]
  },
  {
   "cell_type": "code",
   "execution_count": 36,
   "metadata": {},
   "outputs": [
    {
     "name": "stdout",
     "output_type": "stream",
     "text": [
      "139\n",
      "60\n"
     ]
    }
   ],
   "source": [
    "import math\n",
    "\n",
    "print(math.gcd(1112,695))\n",
    "print(math.lcm(12,10))"
   ]
  },
  {
   "cell_type": "code",
   "execution_count": null,
   "metadata": {},
   "outputs": [],
   "source": []
  }
 ],
 "metadata": {
  "kernelspec": {
   "display_name": "Python 3",
   "language": "python",
   "name": "python3"
  },
  "language_info": {
   "codemirror_mode": {
    "name": "ipython",
    "version": 3
   },
   "file_extension": ".py",
   "mimetype": "text/x-python",
   "name": "python",
   "nbconvert_exporter": "python",
   "pygments_lexer": "ipython3",
   "version": "3.9.2"
  }
 },
 "nbformat": 4,
 "nbformat_minor": 2
}
